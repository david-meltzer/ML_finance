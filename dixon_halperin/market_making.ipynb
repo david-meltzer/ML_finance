{
 "cells": [
  {
   "cell_type": "code",
   "execution_count": 37,
   "id": "686b76e7-ed45-464c-89bd-28e6f4794865",
   "metadata": {},
   "outputs": [],
   "source": [
    "import time\n",
    "import copy\n",
    "import random\n",
    "import sys\n",
    "\n",
    "import numpy as np\n",
    "\n",
    "import matplotlib.pyplot as plt\n",
    "from matplotlib.gridspec import GridSpec\n",
    "\n",
    "from tqdm import tqdm\n",
    "\n",
    "%matplotlib inline"
   ]
  },
  {
   "cell_type": "code",
   "execution_count": 38,
   "id": "f23327a4-ca00-49a8-8479-dbb74541e98e",
   "metadata": {},
   "outputs": [],
   "source": [
    "epsilon = .5\n",
    "alpha = 0.05\n",
    "gamma = 1\n",
    "\n",
    "ACTIONS = [0,1,2]\n",
    "\n",
    "num_inv_steps = 3\n",
    "\n",
    "num_prob_steps = 10\n",
    "\n",
    "Q_dims = (num_inv_steps, num_prob_steps, len(actions))\n",
    "\n",
    "fill_probs = np.linspace(0,1,10)\n",
    "\n",
    "c = 0\n",
    "\n",
    "max_iter = float('inf')\n",
    "\n",
    "actions = {'buy': 2, 'sell': 0, 'hold': 1} \n",
    "positions = {'flat': 0, 'long': 2, 'short': 1}"
   ]
  },
  {
   "cell_type": "code",
   "execution_count": 39,
   "id": "7ab8c934-fe64-4df6-b311-fe747701040a",
   "metadata": {},
   "outputs": [
    {
     "data": {
      "text/plain": [
       "array([0.        , 0.11111111, 0.22222222, 0.33333333, 0.44444444,\n",
       "       0.55555556, 0.66666667, 0.77777778, 0.88888889, 1.        ])"
      ]
     },
     "execution_count": 39,
     "metadata": {},
     "output_type": "execute_result"
    }
   ],
   "source": [
    "fill_probs"
   ]
  },
  {
   "cell_type": "code",
   "execution_count": null,
   "id": "4c889702-5b25-493f-9c05-f242e6da1218",
   "metadata": {},
   "outputs": [],
   "source": []
  },
  {
   "cell_type": "code",
   "execution_count": 40,
   "id": "d0e78284-533f-42b6-b001-f5b03f5a829b",
   "metadata": {},
   "outputs": [],
   "source": [
    "class DataFeed():\n",
    "    def __init__(self,data_RA):\n",
    "        self.data_RA = data_RA\n",
    "        self.rewind()\n",
    "    def next(self):\n",
    "        try:\n",
    "            return self.__gen.__next__()\n",
    "        except StopIteration as e:\n",
    "            raise e\n",
    "    def rewind(self):\n",
    "        self.__gen = (row for row in self.data_RA)\n",
    "\n",
    "        csv_path"
   ]
  },
  {
   "cell_type": "code",
   "execution_count": 41,
   "id": "2ea1304c-5f95-4350-9401-b62f367083e6",
   "metadata": {},
   "outputs": [
    {
     "name": "stdout",
     "output_type": "stream",
     "text": [
      "README.md  \u001b[34mRL_dixon\u001b[m\u001b[m/  \u001b[34mcoursera\u001b[m\u001b[m/  \u001b[34mjansen\u001b[m\u001b[m/    \u001b[34mworkspace\u001b[m\u001b[m/\n"
     ]
    }
   ],
   "source": [
    "%ls .."
   ]
  },
  {
   "cell_type": "code",
   "execution_count": 42,
   "id": "f2316377-1793-48bc-8e1b-66f765b22ec2",
   "metadata": {},
   "outputs": [],
   "source": [
    "csv_path = './data/AMZN-L1.csv'\n",
    "data_RA = np.genfromtxt(csv_path, delimiter =',', dtype=float)\n",
    "data_generator = DataFeed(data_RA)"
   ]
  },
  {
   "cell_type": "code",
   "execution_count": 43,
   "id": "81b7e3d2-1539-4227-854e-e30857d3ccc2",
   "metadata": {},
   "outputs": [],
   "source": [
    "def get_initial_state(data_generator):\n",
    "    data_generator.rewind()\n",
    "    \n",
    "    position = positions['flat']\n",
    "    entry_price = None\n",
    "    \n",
    "    ask, ask_depth, bid, bid_depth = data_generator.next()\n",
    "    \n",
    "    price = {'bid': bid/1000.0, 'ask': ask/1000.0}\n",
    "    \n",
    "    q = bid_depth / (bid_depth + ask_depth)\n",
    "    q_ind = int(q * num_prob_steps)\n",
    "    \n",
    "    initial_state = position, q_ind, price, entry_price\n",
    "    \n",
    "    return initial_state"
   ]
  },
  {
   "cell_type": "code",
   "execution_count": 44,
   "id": "0d6eb4da-a2c5-477f-964b-81082702292f",
   "metadata": {},
   "outputs": [
    {
     "name": "stdout",
     "output_type": "stream",
     "text": [
      "(0, 5, {'bid': 2231.8, 'ask': 2239.5}, None)\n"
     ]
    }
   ],
   "source": [
    "START = get_initial_state(data_generator)\n",
    "print(START)"
   ]
  },
  {
   "cell_type": "code",
   "execution_count": 45,
   "id": "09ed9575-5c4f-4cc9-be8b-08c3f5c9594e",
   "metadata": {},
   "outputs": [],
   "source": [
    "def step(state, action):\n",
    "    position, q, price, entry_price = state\n",
    "    reward = 0\n",
    "    instant_pnl = 0\n",
    "    done = False\n",
    "    \n",
    "    if fill_probs[q] < np.random.rand():\n",
    "        fill_bid = True\n",
    "        fill_ask = False\n",
    "    else:\n",
    "        fill_bid = False\n",
    "        fill_ask = True\n",
    "    \n",
    "    if (action == actions['buy']) and (fill_bid):\n",
    "        reward = -c\n",
    "        if position == positions['flat']:\n",
    "            position = positions['long']\n",
    "            entry_price = price['bid']\n",
    "        elif position == positions['short']:\n",
    "            position = positions['flat']\n",
    "            exit_price = price['bid']\n",
    "            instant_pnl = entry_price - exit_price\n",
    "            entry_price = None\n",
    "        elif position == positions['long']:\n",
    "            raise ValueError(\"can't buy, already have\")\n",
    "    \n",
    "    elif (action == actions['sell'] and fill_ask):\n",
    "        reward = -c\n",
    "        \n",
    "        if position == positions['flat']:\n",
    "            position = positions['short']\n",
    "            entry_price = price['ask']\n",
    "        elif position == positions['long']:\n",
    "            exit_price = price['ask']\n",
    "            position = positions['flat']\n",
    "            instant_pnl = exit_price - entry_price\n",
    "            entry_price = None\n",
    "        elif position == positions['short']:\n",
    "            raise ValueError(\"Can't sell, already short\")\n",
    "    reward += instant_pnl\n",
    "    \n",
    "    try:\n",
    "        ask, ask_depth, bid, bid_depth = data_generator.next()\n",
    "        \n",
    "        price = {'bid': bid/1000.0, 'ask':ask/1000.0}\n",
    "        \n",
    "        q = bid_depth/(bid_depth + ask_depth)\n",
    "        \n",
    "        q_ind = int(q*num_prob_steps)\n",
    "    \n",
    "    except StopIteration as e:\n",
    "        raise e\n",
    "    \n",
    "    next_state = position, q_ind, price, entry_price\n",
    "    \n",
    "    return next_state, reward\n",
    "                        "
   ]
  },
  {
   "cell_type": "code",
   "execution_count": 46,
   "id": "f9198430-79be-4935-a050-41aa180db0d6",
   "metadata": {},
   "outputs": [
    {
     "data": {
      "text/plain": [
       "10"
      ]
     },
     "execution_count": 46,
     "metadata": {},
     "output_type": "execute_result"
    }
   ],
   "source": [
    "num_prob_steps"
   ]
  },
  {
   "cell_type": "code",
   "execution_count": 47,
   "id": "c314955f-102d-460b-a633-9a7a63300fb3",
   "metadata": {},
   "outputs": [
    {
     "name": "stdout",
     "output_type": "stream",
     "text": [
      "{'buy': 2, 'sell': 0, 'hold': 1}\n",
      "((1, 1, {'bid': 2238.1, 'ask': 2239.5}, 2239.5), 0)\n",
      "((0, 5, {'bid': 2237.5, 'ask': 2239.5}, None), 0)\n"
     ]
    }
   ],
   "source": [
    "print(actions)\n",
    "state = get_initial_state\n",
    "print(step(START, 0))\n",
    "print(step(START, 1))"
   ]
  },
  {
   "cell_type": "code",
   "execution_count": 50,
   "id": "dbfa63c5-b9f0-46e5-a01a-7b70a8125793",
   "metadata": {},
   "outputs": [],
   "source": [
    "def choose_action(state, q_value,eps=epsilon):\n",
    "    position, q, price, entry_price = state\n",
    "    \n",
    "    if np.random.binomial(1,eps) == 1:\n",
    "        if position == positions['long']:\n",
    "            action = np.random.choice([actions['hold'],actions['sell']])\n",
    "        elif position == positions['short']:\n",
    "            action = np.random.choice([actions['hold'],actions['buy']])\n",
    "        else:\n",
    "            action = np.random.choice([actions['hold'],actions['sell'],actions['buy']])\n",
    "    \n",
    "    else:\n",
    "        if position == positions['long']:\n",
    "            actions_ = [actions['hold'],actions['sell']]\n",
    "        elif position == positions['short']:\n",
    "            actions_ = [actions['hold'], actions['buy']]\n",
    "        else:\n",
    "            actions_ = [actions['hold'], actions['buy'], actions['sell']]\n",
    "        \n",
    "        values_ = q_value[state[0],state[1],actions_]\n",
    "        \n",
    "        action = np.random.choice([actions_[action_] \n",
    "                                   for action_, value_ in enumerate(values_)\n",
    "                                   if value_ == np.max(values_)])\n",
    "    return action"
   ]
  },
  {
   "cell_type": "code",
   "execution_count": 51,
   "id": "dcaf6dd6-6a10-41c8-8b13-47eca92959cd",
   "metadata": {},
   "outputs": [
    {
     "name": "stdout",
     "output_type": "stream",
     "text": [
      "(0, 5, {'bid': 2231.8, 'ask': 2239.5}, None)\n",
      "[0.23148177 0.510653   0.57166512]\n",
      "2\n"
     ]
    }
   ],
   "source": [
    "# Set a random state-action value function\n",
    "q_value_example = np.random.random(Q_dims) \n",
    "\n",
    "# Show the initial state\n",
    "state = get_initial_state(data_generator)\n",
    "print(state)\n",
    "\n",
    "# The action values for the initial state. \n",
    "# state[0] is the position; state[1] is the bid fill probability\n",
    "print(q_value_example[state[0], state[1], :])\n",
    "\n",
    "# With epsilon = 0, the selected action is always that with the highest Q-value\n",
    "print(choose_action(state, q_value_example, eps=0))"
   ]
  },
  {
   "cell_type": "code",
   "execution_count": 34,
   "id": "42f9792b-65fb-42b3-ab90-47691a099cc6",
   "metadata": {},
   "outputs": [
    {
     "data": {
      "text/plain": [
       "[0, 1, 2]"
      ]
     },
     "execution_count": 34,
     "metadata": {},
     "output_type": "execute_result"
    }
   ],
   "source": [
    "actions"
   ]
  },
  {
   "cell_type": "code",
   "execution_count": 52,
   "id": "92be4d85-cd52-4e34-beb4-c82709e60b0d",
   "metadata": {},
   "outputs": [
    {
     "data": {
      "text/plain": [
       "inf"
      ]
     },
     "execution_count": 52,
     "metadata": {},
     "output_type": "execute_result"
    }
   ],
   "source": [
    "max_iter"
   ]
  },
  {
   "cell_type": "code",
   "execution_count": null,
   "id": "9d4502ba-0320-4e31-aba9-98af1fb2323e",
   "metadata": {},
   "outputs": [],
   "source": [
    "def sarsa(q_value, expected = False, step_size=Alpha, eps=epsilon):\n",
    "    \n",
    "    state = get_initial_state(data_generator)\n",
    "    action = choose_action(state, q_value,eps)\n",
    "    rewards = 0.0\n",
    "    done = False\n",
    "    iteration = 0\n",
    "    \n",
    "    while (iteration < max_iter) and not done:\n",
    "        try:\n",
    "            next_state, reward = step(state,action)\n",
    "        except StopIteration:\n",
    "            done=True\n",
    "            continue"
   ]
  }
 ],
 "metadata": {
  "kernelspec": {
   "display_name": "Python 3 (ipykernel)",
   "language": "python",
   "name": "python3"
  },
  "language_info": {
   "codemirror_mode": {
    "name": "ipython",
    "version": 3
   },
   "file_extension": ".py",
   "mimetype": "text/x-python",
   "name": "python",
   "nbconvert_exporter": "python",
   "pygments_lexer": "ipython3",
   "version": "3.10.9"
  }
 },
 "nbformat": 4,
 "nbformat_minor": 5
}
