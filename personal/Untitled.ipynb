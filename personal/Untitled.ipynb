{
 "cells": [
  {
   "cell_type": "code",
   "execution_count": 1,
   "id": "8b831f94-c4e8-4f13-88f6-a8d999a5020b",
   "metadata": {},
   "outputs": [],
   "source": [
    "import pandas as pd\n",
    "import pandas_datareader as web\n",
    "import yfinance as yf\n",
    "\n",
    "from sklearn.decomposition import PCA\n",
    "from sklearn.decomposition import TruncatedSVD\n",
    "\n",
    "from numpy.linalg import inv, eig, svd\n",
    "from sklearn.manifold import TSNE\n",
    "from sklearn.decomposition import KernelPCA\n",
    "\n",
    "import numpy as np\n",
    "import matplotlib.pyplot as plt\n",
    "from pandas import read_csv, set_option\n",
    "from pandas.plotting import scatter_matrix \n",
    "import seaborn as sns\n",
    "from sklearn.preprocessing import StandardScaler\n",
    "\n",
    "from matplotlib.ticker import FuncFormatter"
   ]
  },
  {
   "cell_type": "code",
   "execution_count": 2,
   "id": "cb7b41b1-7d61-445c-a279-c712efa7c4c3",
   "metadata": {},
   "outputs": [],
   "source": [
    "# load dataset\n",
    "#scraping wikipedia to fetch S&P 500 stock list\n",
    "snp500url = \"https://en.wikipedia.org/wiki/List_of_S%26P_500_companies\"\n",
    "SP_stocks = pd.read_html(snp500url)[0]\n",
    "SP_tickers = SP_stocks['Symbol'].to_list()\n",
    "\n",
    "dji = (\n",
    "    pd.read_html('https://en.wikipedia.org/wiki/Dow_Jones_Industrial_Average')[1]\n",
    ")\n",
    "dji_symbols = dji.Symbol.tolist()"
   ]
  },
  {
   "cell_type": "code",
   "execution_count": 3,
   "id": "5bd46119-815c-4170-8883-475e7db7ca30",
   "metadata": {},
   "outputs": [],
   "source": [
    "def download_stocks(tickers,start='2014-01-01',end='2019-01-01'):\n",
    "    return yf.download(tickers, start = start, end = end)\n",
    "\n",
    "def remove_null(df, cutoff = .99):\n",
    "    df = df.dropna(thresh=int(df.shape[0]*cutoff),axis=1)\n",
    "    df = df.dropna(thresh=int(df.shape[1]*cutoff))\n",
    "    return df\n",
    "\n",
    "def winsorize(df,q=.025):\n",
    "    clipped = df.clip(lower=df.quantile(q=q),\n",
    "                   upper=df.quantile(q=1-q),\n",
    "                   axis=1)\n",
    "    return clipped\n",
    "\n",
    "def df_scaler(df):\n",
    "    scaler = StandardScaler().fit(df)\n",
    "    return scaler\n",
    "\n",
    "def train_test_split(df,percentage = .8):\n",
    "    \n",
    "    train_size = int(len(df)*percentage)\n",
    "    train_set = df[:train_size]\n",
    "    test_set = df[train_size:]\n",
    "    \n",
    "    return train_set, test_set\n",
    "\n",
    "def normalize_data(df_train,df_test):\n",
    "    scaler = StandardScaler().fit(df_train)\n",
    "    \n",
    "    train = pd.DataFrame(scaler.transform(df_train),\n",
    "                         columns = df_train.columns,\n",
    "                         index = df_train.index)\n",
    "    test = pd.DataFrame(scaler.transform(df_test),\n",
    "                        columns = df_test.columns,\n",
    "                        index = df_test.index)\n",
    "    \n",
    "    return train, test"
   ]
  },
  {
   "cell_type": "code",
   "execution_count": 4,
   "id": "944928e6-b45b-498b-8be8-3911f49e7943",
   "metadata": {},
   "outputs": [
    {
     "name": "stdout",
     "output_type": "stream",
     "text": [
      "[*********************100%***********************]  503 of 503 completed\n",
      "\n",
      "12 Failed downloads:\n",
      "- BF.B: No data found for this date range, symbol may be delisted\n",
      "- OGN: Data doesn't exist for startDate = 1388552400, endDate = 1546318800\n",
      "- CARR: Data doesn't exist for startDate = 1388552400, endDate = 1546318800\n",
      "- CTVA: Data doesn't exist for startDate = 1388552400, endDate = 1546318800\n",
      "- GEHC: Data doesn't exist for startDate = 1388552400, endDate = 1546318800\n",
      "- FOX: Data doesn't exist for startDate = 1388552400, endDate = 1546318800\n",
      "- CEG: Data doesn't exist for startDate = 1388552400, endDate = 1546318800\n",
      "- MLM: No data found for this date range, symbol may be delisted\n",
      "- OTIS: Data doesn't exist for startDate = 1388552400, endDate = 1546318800\n",
      "- FOXA: Data doesn't exist for startDate = 1388552400, endDate = 1546318800\n",
      "- DOW: Data doesn't exist for startDate = 1388552400, endDate = 1546318800\n",
      "- BRK.B: No timezone found, symbol may be delisted\n",
      "[*********************100%***********************]  30 of 30 completed\n",
      "\n",
      "1 Failed download:\n",
      "- DOW: Data doesn't exist for startDate = 1388552400, endDate = 1546318800\n"
     ]
    }
   ],
   "source": [
    "SP_data = download_stocks(SP_tickers)['Adj Close']\n",
    "SP_data.index = pd.to_datetime(SP_data.index)\n",
    "\n",
    "dji_data = download_stocks(dji_symbols)['Adj Close']\n",
    "dji_data.index = pd.to_datetime(dji_data.index)\n",
    "\n",
    "SP_data = remove_null(SP_data)\n",
    "dji_data = remove_null(dji_data)"
   ]
  },
  {
   "cell_type": "code",
   "execution_count": 5,
   "id": "feda5e77-7f99-4c30-8bee-dddc45cf0fc6",
   "metadata": {},
   "outputs": [],
   "source": [
    "#SP_returns = SP_data.pct_change().dropna()\n",
    "#dji_returns = dji_data.pct_change().dropna()\n",
    "\n",
    "SP_log_returns = np.log(SP_data/SP_data.shift(1))[1:]\n",
    "dji_log_returns = np.log(dji_data/dji_data.shift(1))[1:]\n",
    "\n",
    "SP_log_returns = winsorize(SP_log_returns)\n",
    "dji_log_returns = winsorize(dji_log_returns)"
   ]
  },
  {
   "cell_type": "code",
   "execution_count": 6,
   "id": "d85ddf15-107f-404d-b8ed-c42cc1ef3ee0",
   "metadata": {},
   "outputs": [],
   "source": [
    "SP_train, SP_test = train_test_split(SP_log_returns)\n",
    "dji_train, dji_test = train_test_split(dji_log_returns)"
   ]
  },
  {
   "cell_type": "code",
   "execution_count": 7,
   "id": "39cc86b7-a9b8-4a70-a672-faf8f4a57a20",
   "metadata": {},
   "outputs": [],
   "source": []
  },
  {
   "cell_type": "code",
   "execution_count": null,
   "id": "51bec124-bc87-4ca5-a3a7-fdf93b875c86",
   "metadata": {},
   "outputs": [],
   "source": []
  },
  {
   "cell_type": "code",
   "execution_count": 10,
   "id": "ab6c3af2-901f-45c1-a70d-19c3ea9f74c8",
   "metadata": {},
   "outputs": [],
   "source": [
    "SP_train_scaled = (SP_train-SP_train.mean())/SP_train.std()\n",
    "SP_test_scaled = (SP_test-SP_train.mean())/SP_train.std()\n",
    "\n",
    "dji_train_scaled = (dji_train-dji_train.mean())/dji_train.std()\n",
    "dji_test_scaled = (dji_test-dji_train.mean())/dji_train.std()"
   ]
  },
  {
   "cell_type": "code",
   "execution_count": 11,
   "id": "8b22df84-974a-44bf-bd39-a455103fbd8e",
   "metadata": {},
   "outputs": [],
   "source": [
    "SP_train_corr = 1/(SP_train_scaled.shape[0]-1)*SP_train_scaled.T.dot(SP_train_scaled)\n",
    "dji_train_corr = 1/(dji_train_scaled.shape[0]-1)*dji_train_scaled.T.dot(dji_train_scaled)"
   ]
  },
  {
   "cell_type": "code",
   "execution_count": 13,
   "id": "344da6ee-e514-44d0-b616-cc384f9f6d5c",
   "metadata": {},
   "outputs": [],
   "source": [
    "PCA_SP = PCA().fit(SP_train_scaled)\n",
    "PCA_DJI = PCA().fit(dji_train_scaled)"
   ]
  },
  {
   "cell_type": "code",
   "execution_count": 14,
   "id": "b8460172-4ed7-4d55-bb0d-4b1d56ca11c9",
   "metadata": {},
   "outputs": [
    {
     "name": "stdout",
     "output_type": "stream",
     "text": [
      "True\n",
      "True\n"
     ]
    }
   ],
   "source": [
    "dji_eigvals, dji_eigvecs = np.linalg.eigh(dji_train_corr)\n",
    "\n",
    "dji_eigvals = dji_eigvals[::-1]\n",
    "dji_eigvecs = dji_eigvecs[:,::-1]\n",
    "\n",
    "\n",
    "print(np.allclose(PCA_DJI.explained_variance_ratio_,(dji_eigvals/np.sum(dji_eigvals))))\n",
    "\n",
    "print(np.allclose(np.abs(np.dot(PCA_DJI.components_,dji_eigvecs)),\n",
    "            np.eye(dji_eigvecs.shape[0])))"
   ]
  },
  {
   "cell_type": "code",
   "execution_count": 15,
   "id": "43fff40a-a3ca-47b9-9e36-923a4f081275",
   "metadata": {},
   "outputs": [
    {
     "name": "stdout",
     "output_type": "stream",
     "text": [
      "True\n",
      "True\n"
     ]
    }
   ],
   "source": [
    "SP_eigvals, SP_eigvecs = np.linalg.eigh(SP_train_corr)\n",
    "\n",
    "print(np.allclose(PCA_SP.explained_variance_ratio_[::-1],(SP_eigvals/np.sum(SP_eigvals))))\n",
    "\n",
    "print(np.allclose(np.abs(np.dot(PCA_SP.components_,SP_eigvecs[::,::-1])),\n",
    "            np.eye(SP_eigvecs.shape[0])))"
   ]
  },
  {
   "cell_type": "code",
   "execution_count": 16,
   "id": "85839a54-2702-41ed-8c03-27d8ad399ff6",
   "metadata": {},
   "outputs": [],
   "source": [
    "dji_evecs_std = (dji_eigvecs.T/(dji_train.std().values)).T"
   ]
  },
  {
   "cell_type": "code",
   "execution_count": null,
   "id": "a6ec88ad-a44a-4c21-b517-5294da7dc3ad",
   "metadata": {},
   "outputs": [],
   "source": []
  }
 ],
 "metadata": {
  "kernelspec": {
   "display_name": "Python 3 (ipykernel)",
   "language": "python",
   "name": "python3"
  },
  "language_info": {
   "codemirror_mode": {
    "name": "ipython",
    "version": 3
   },
   "file_extension": ".py",
   "mimetype": "text/x-python",
   "name": "python",
   "nbconvert_exporter": "python",
   "pygments_lexer": "ipython3",
   "version": "3.9.13"
  }
 },
 "nbformat": 4,
 "nbformat_minor": 5
}
